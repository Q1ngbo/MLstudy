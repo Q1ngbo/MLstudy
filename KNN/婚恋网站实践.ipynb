{
 "cells": [
  {
   "cell_type": "code",
   "execution_count": 2,
   "metadata": {},
   "outputs": [],
   "source": [
    "'''\n",
    "    涉及到的知识: KNN, 数据归一化方法，划分数据集和训练集\n",
    "'''\n",
    "import pandas as pd"
   ]
  },
  {
   "cell_type": "code",
   "execution_count": 4,
   "metadata": {},
   "outputs": [],
   "source": [
    "oriData = pd.read_table('datingTestSet.txt', header=None)"
   ]
  },
  {
   "cell_type": "code",
   "execution_count": 11,
   "metadata": {},
   "outputs": [
    {
     "data": {
      "text/plain": [
       "0         91273\n",
       "1       20.9193\n",
       "2       1.69552\n",
       "3    smallDoses\n",
       "dtype: object"
      ]
     },
     "execution_count": 11,
     "metadata": {},
     "output_type": "execute_result"
    }
   ],
   "source": [
    "oriData.max()"
   ]
  },
  {
   "cell_type": "code",
   "execution_count": 16,
   "metadata": {},
   "outputs": [
    {
     "data": {
      "text/plain": [
       "11"
      ]
     },
     "execution_count": 16,
     "metadata": {},
     "output_type": "execute_result"
    }
   ],
   "source": [
    "oriData.index[11]"
   ]
  },
  {
   "cell_type": "markdown",
   "metadata": {},
   "source": [
    "### 数据归一化"
   ]
  },
  {
   "cell_type": "markdown",
   "metadata": {},
   "source": [
    "0-1标准化， Z-score标准化, Sigmoid压缩法"
   ]
  },
  {
   "cell_type": "code",
   "execution_count": 8,
   "metadata": {},
   "outputs": [],
   "source": [
    "'''\n",
    "0-1标准化\n",
    "data = (X - min)/(max - min)\n",
    "'''\n",
    "def minmax(dataSet):\n",
    "    minDf = dataSet.min()\n",
    "    maxDf = dataSet.max()\n",
    "    normSet = (dataSet - minDf)/(maxDf - minDf)\n",
    "    \n",
    "    return normSet\n"
   ]
  },
  {
   "cell_type": "markdown",
   "metadata": {},
   "source": [
    "### 划分训练集和测试集"
   ]
  },
  {
   "cell_type": "code",
   "execution_count": 18,
   "metadata": {},
   "outputs": [],
   "source": [
    "'''\n",
    "功能：切分训练集和测试集\n",
    "参数说明：\n",
    "    dataSet: 原始数据集\n",
    "    rate: 训练集所占比例\n",
    "返回：\n",
    "    划分好的训练集和测试集\n",
    "'''\n",
    "\n",
    "# 要保证数据集是乱序的\n",
    "def randSplit(dataSet, rate):\n",
    "    num = dataSet.shape[0]\n",
    "    spnum = int(num*rate)\n",
    "    train = dataSet.iloc[:spnum, :]\n",
    "    test = dataSet.iloc[spnum:, :]\n",
    "    test.index = range(test.shape[0])\n",
    "    \n",
    "    return train, test\n",
    "    \n",
    "    # test的索引不是从0开始的，所以要修改"
   ]
  },
  {
   "cell_type": "code",
   "execution_count": 40,
   "metadata": {},
   "outputs": [],
   "source": [
    "'''\n",
    "函数功能：KNN分类，输出正确率\n",
    "参数说明：\n",
    "    train:训练集\n",
    "    test: 测试集\n",
    "    k: knn参数\n",
    "返回: 预测好分类的测试集\n",
    "'''\n",
    "\n",
    "def datingClass(train, test, k):\n",
    "    n = train.shape[1] - 1\n",
    "    m = test.shape[0]\n",
    "    result = []\n",
    "    \n",
    "    for i in range(m):\n",
    "        dist = list((((train.iloc[:, :n] - test.iloc[i, :n])**2).sum(1))**0.5)\n",
    "        dist_1 = pd.DataFrame({'dist': dist, 'labels': (train.iloc[:, n])})\n",
    "        dr = dist_1.sort_values(by='dist')[:k]\n",
    "        re = dr.loc[:, 'labels'].value_counts()\n",
    "        result.append(re.index[0])\n",
    "    \n",
    "    result = pd.Series(result)\n",
    "    test.loc[:, 'predict'] = result\n",
    "    acc = (test.iloc[:, -1] == test.iloc[:, -2]).mean()\n",
    "    \n",
    "    print(\"模型准确率为:{}\".format(acc))\n",
    "    \n",
    "    return test"
   ]
  },
  {
   "cell_type": "code",
   "execution_count": 41,
   "metadata": {},
   "outputs": [],
   "source": [
    "dating = pd.concat([minmax(oriData.iloc[:, :3]), oriData.iloc[:, 3]], axis=1)"
   ]
  },
  {
   "cell_type": "code",
   "execution_count": 42,
   "metadata": {},
   "outputs": [
    {
     "data": {
      "text/html": [
       "<div>\n",
       "<style scoped>\n",
       "    .dataframe tbody tr th:only-of-type {\n",
       "        vertical-align: middle;\n",
       "    }\n",
       "\n",
       "    .dataframe tbody tr th {\n",
       "        vertical-align: top;\n",
       "    }\n",
       "\n",
       "    .dataframe thead th {\n",
       "        text-align: right;\n",
       "    }\n",
       "</style>\n",
       "<table border=\"1\" class=\"dataframe\">\n",
       "  <thead>\n",
       "    <tr style=\"text-align: right;\">\n",
       "      <th></th>\n",
       "      <th>0</th>\n",
       "      <th>1</th>\n",
       "      <th>2</th>\n",
       "      <th>3</th>\n",
       "    </tr>\n",
       "  </thead>\n",
       "  <tbody>\n",
       "    <tr>\n",
       "      <td>0</td>\n",
       "      <td>0.448325</td>\n",
       "      <td>0.398051</td>\n",
       "      <td>0.562334</td>\n",
       "      <td>largeDoses</td>\n",
       "    </tr>\n",
       "    <tr>\n",
       "      <td>1</td>\n",
       "      <td>0.158733</td>\n",
       "      <td>0.341955</td>\n",
       "      <td>0.987244</td>\n",
       "      <td>smallDoses</td>\n",
       "    </tr>\n",
       "    <tr>\n",
       "      <td>2</td>\n",
       "      <td>0.285429</td>\n",
       "      <td>0.068925</td>\n",
       "      <td>0.474496</td>\n",
       "      <td>didntLike</td>\n",
       "    </tr>\n",
       "    <tr>\n",
       "      <td>3</td>\n",
       "      <td>0.823201</td>\n",
       "      <td>0.628480</td>\n",
       "      <td>0.252489</td>\n",
       "      <td>didntLike</td>\n",
       "    </tr>\n",
       "    <tr>\n",
       "      <td>4</td>\n",
       "      <td>0.420102</td>\n",
       "      <td>0.079820</td>\n",
       "      <td>0.078578</td>\n",
       "      <td>didntLike</td>\n",
       "    </tr>\n",
       "  </tbody>\n",
       "</table>\n",
       "</div>"
      ],
      "text/plain": [
       "          0         1         2           3\n",
       "0  0.448325  0.398051  0.562334  largeDoses\n",
       "1  0.158733  0.341955  0.987244  smallDoses\n",
       "2  0.285429  0.068925  0.474496   didntLike\n",
       "3  0.823201  0.628480  0.252489   didntLike\n",
       "4  0.420102  0.079820  0.078578   didntLike"
      ]
     },
     "execution_count": 42,
     "metadata": {},
     "output_type": "execute_result"
    }
   ],
   "source": [
    "dating.head()"
   ]
  },
  {
   "cell_type": "code",
   "execution_count": 43,
   "metadata": {},
   "outputs": [],
   "source": [
    "train, test = randSplit(dating, 0.92)"
   ]
  },
  {
   "cell_type": "code",
   "execution_count": 44,
   "metadata": {},
   "outputs": [
    {
     "name": "stdout",
     "output_type": "stream",
     "text": [
      "模型准确率为:0.9625\n"
     ]
    },
    {
     "name": "stderr",
     "output_type": "stream",
     "text": [
      "d:\\python\\lib\\site-packages\\pandas\\core\\indexing.py:376: SettingWithCopyWarning: \n",
      "A value is trying to be set on a copy of a slice from a DataFrame.\n",
      "Try using .loc[row_indexer,col_indexer] = value instead\n",
      "\n",
      "See the caveats in the documentation: http://pandas.pydata.org/pandas-docs/stable/user_guide/indexing.html#returning-a-view-versus-a-copy\n",
      "  self.obj[key] = _infer_fill_value(value)\n",
      "d:\\python\\lib\\site-packages\\pandas\\core\\indexing.py:494: SettingWithCopyWarning: \n",
      "A value is trying to be set on a copy of a slice from a DataFrame.\n",
      "Try using .loc[row_indexer,col_indexer] = value instead\n",
      "\n",
      "See the caveats in the documentation: http://pandas.pydata.org/pandas-docs/stable/user_guide/indexing.html#returning-a-view-versus-a-copy\n",
      "  self.obj[item] = s\n"
     ]
    }
   ],
   "source": [
    "res = datingClass(train, test, 5)"
   ]
  },
  {
   "cell_type": "code",
   "execution_count": 46,
   "metadata": {},
   "outputs": [
    {
     "data": {
      "text/html": [
       "<div>\n",
       "<style scoped>\n",
       "    .dataframe tbody tr th:only-of-type {\n",
       "        vertical-align: middle;\n",
       "    }\n",
       "\n",
       "    .dataframe tbody tr th {\n",
       "        vertical-align: top;\n",
       "    }\n",
       "\n",
       "    .dataframe thead th {\n",
       "        text-align: right;\n",
       "    }\n",
       "</style>\n",
       "<table border=\"1\" class=\"dataframe\">\n",
       "  <thead>\n",
       "    <tr style=\"text-align: right;\">\n",
       "      <th></th>\n",
       "      <th>0</th>\n",
       "      <th>1</th>\n",
       "      <th>2</th>\n",
       "      <th>3</th>\n",
       "      <th>predict</th>\n",
       "    </tr>\n",
       "  </thead>\n",
       "  <tbody>\n",
       "    <tr>\n",
       "      <td>0</td>\n",
       "      <td>0.748370</td>\n",
       "      <td>0.508872</td>\n",
       "      <td>0.408589</td>\n",
       "      <td>didntLike</td>\n",
       "      <td>didntLike</td>\n",
       "    </tr>\n",
       "    <tr>\n",
       "      <td>1</td>\n",
       "      <td>0.342511</td>\n",
       "      <td>0.461926</td>\n",
       "      <td>0.897321</td>\n",
       "      <td>largeDoses</td>\n",
       "      <td>largeDoses</td>\n",
       "    </tr>\n",
       "    <tr>\n",
       "      <td>2</td>\n",
       "      <td>0.380770</td>\n",
       "      <td>0.515810</td>\n",
       "      <td>0.774052</td>\n",
       "      <td>largeDoses</td>\n",
       "      <td>largeDoses</td>\n",
       "    </tr>\n",
       "    <tr>\n",
       "      <td>3</td>\n",
       "      <td>0.146900</td>\n",
       "      <td>0.134351</td>\n",
       "      <td>0.129138</td>\n",
       "      <td>smallDoses</td>\n",
       "      <td>smallDoses</td>\n",
       "    </tr>\n",
       "    <tr>\n",
       "      <td>4</td>\n",
       "      <td>0.332683</td>\n",
       "      <td>0.469709</td>\n",
       "      <td>0.818801</td>\n",
       "      <td>largeDoses</td>\n",
       "      <td>largeDoses</td>\n",
       "    </tr>\n",
       "  </tbody>\n",
       "</table>\n",
       "</div>"
      ],
      "text/plain": [
       "          0         1         2           3     predict\n",
       "0  0.748370  0.508872  0.408589   didntLike   didntLike\n",
       "1  0.342511  0.461926  0.897321  largeDoses  largeDoses\n",
       "2  0.380770  0.515810  0.774052  largeDoses  largeDoses\n",
       "3  0.146900  0.134351  0.129138  smallDoses  smallDoses\n",
       "4  0.332683  0.469709  0.818801  largeDoses  largeDoses"
      ]
     },
     "execution_count": 46,
     "metadata": {},
     "output_type": "execute_result"
    }
   ],
   "source": [
    "res.head()"
   ]
  },
  {
   "cell_type": "markdown",
   "metadata": {},
   "source": [
    "### hamming 距离\n",
    "等长字符串，相同位置不同元素个数\n",
    "Levenshtein包"
   ]
  },
  {
   "cell_type": "code",
   "execution_count": null,
   "metadata": {},
   "outputs": [],
   "source": []
  }
 ],
 "metadata": {
  "kernelspec": {
   "display_name": "Python 3",
   "language": "python",
   "name": "python3"
  },
  "language_info": {
   "codemirror_mode": {
    "name": "ipython",
    "version": 3
   },
   "file_extension": ".py",
   "mimetype": "text/x-python",
   "name": "python",
   "nbconvert_exporter": "python",
   "pygments_lexer": "ipython3",
   "version": "3.7.3"
  }
 },
 "nbformat": 4,
 "nbformat_minor": 2
}
